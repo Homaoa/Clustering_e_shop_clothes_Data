{
  "nbformat": 4,
  "nbformat_minor": 0,
  "metadata": {
    "colab": {
      "name": "Data prepration E shop.ipynb",
      "provenance": [],
      "authorship_tag": "ABX9TyMBeL8h/t1oiUEjQD+fYv4Z",
      "include_colab_link": true
    },
    "kernelspec": {
      "name": "python3",
      "display_name": "Python 3"
    },
    "language_info": {
      "name": "python"
    }
  },
  "cells": [
    {
      "cell_type": "markdown",
      "metadata": {
        "id": "view-in-github",
        "colab_type": "text"
      },
      "source": [
        "<a href=\"https://colab.research.google.com/github/Homaoa/Clustering_e_shop_clothes_Data/blob/main/Data_prepration_E_shop.ipynb\" target=\"_parent\"><img src=\"https://colab.research.google.com/assets/colab-badge.svg\" alt=\"Open In Colab\"/></a>"
      ]
    },
    {
      "cell_type": "code",
      "metadata": {
        "id": "xV24iZpllR_T"
      },
      "source": [
        "import pandas as pd \n",
        "import matplotlib.pyplot as plt\n",
        "import numpy as np"
      ],
      "execution_count": null,
      "outputs": []
    },
    {
      "cell_type": "code",
      "metadata": {
        "colab": {
          "base_uri": "https://localhost:8080/",
          "height": 204
        },
        "id": "A3PQgZNsltNH",
        "outputId": "1e989ff2-90ea-4539-908e-c4255e01255c"
      },
      "source": [
        "url='/content/e-shop clothing 2008.csv'\n",
        "data=pd.read_csv(url)\n",
        "data.head()"
      ],
      "execution_count": null,
      "outputs": [
        {
          "output_type": "execute_result",
          "data": {
            "text/html": [
              "<div>\n",
              "<style scoped>\n",
              "    .dataframe tbody tr th:only-of-type {\n",
              "        vertical-align: middle;\n",
              "    }\n",
              "\n",
              "    .dataframe tbody tr th {\n",
              "        vertical-align: top;\n",
              "    }\n",
              "\n",
              "    .dataframe thead th {\n",
              "        text-align: right;\n",
              "    }\n",
              "</style>\n",
              "<table border=\"1\" class=\"dataframe\">\n",
              "  <thead>\n",
              "    <tr style=\"text-align: right;\">\n",
              "      <th></th>\n",
              "      <th>year;month;day;order;country;session ID;page 1 (main category);page 2 (clothing model);colour;location;model photography;price;price 2;page</th>\n",
              "    </tr>\n",
              "  </thead>\n",
              "  <tbody>\n",
              "    <tr>\n",
              "      <th>0</th>\n",
              "      <td>2008;4;1;1;29;1;1;A13;1;5;1;28;2;1</td>\n",
              "    </tr>\n",
              "    <tr>\n",
              "      <th>1</th>\n",
              "      <td>2008;4;1;2;29;1;1;A16;1;6;1;33;2;1</td>\n",
              "    </tr>\n",
              "    <tr>\n",
              "      <th>2</th>\n",
              "      <td>2008;4;1;3;29;1;2;B4;10;2;1;52;1;1</td>\n",
              "    </tr>\n",
              "    <tr>\n",
              "      <th>3</th>\n",
              "      <td>2008;4;1;4;29;1;2;B17;6;6;2;38;2;1</td>\n",
              "    </tr>\n",
              "    <tr>\n",
              "      <th>4</th>\n",
              "      <td>2008;4;1;5;29;1;2;B8;4;3;2;52;1;1</td>\n",
              "    </tr>\n",
              "  </tbody>\n",
              "</table>\n",
              "</div>"
            ],
            "text/plain": [
              "  year;month;day;order;country;session ID;page 1 (main category);page 2 (clothing model);colour;location;model photography;price;price 2;page\n",
              "0                 2008;4;1;1;29;1;1;A13;1;5;1;28;2;1                                                                                         \n",
              "1                 2008;4;1;2;29;1;1;A16;1;6;1;33;2;1                                                                                         \n",
              "2                 2008;4;1;3;29;1;2;B4;10;2;1;52;1;1                                                                                         \n",
              "3                 2008;4;1;4;29;1;2;B17;6;6;2;38;2;1                                                                                         \n",
              "4                  2008;4;1;5;29;1;2;B8;4;3;2;52;1;1                                                                                         "
            ]
          },
          "metadata": {
            "tags": []
          },
          "execution_count": 3
        }
      ]
    },
    {
      "cell_type": "code",
      "metadata": {
        "colab": {
          "base_uri": "https://localhost:8080/"
        },
        "id": "vnHPKn6LrLNP",
        "outputId": "710cd4cf-b7d9-4723-c534-990ec73df2f6"
      },
      "source": [
        "data.info()"
      ],
      "execution_count": 5,
      "outputs": [
        {
          "output_type": "stream",
          "text": [
            "<class 'pandas.core.frame.DataFrame'>\n",
            "RangeIndex: 165474 entries, 0 to 165473\n",
            "Data columns (total 1 columns):\n",
            " #   Column                                                                                                                                       Non-Null Count   Dtype \n",
            "---  ------                                                                                                                                       --------------   ----- \n",
            " 0   year;month;day;order;country;session ID;page 1 (main category);page 2 (clothing model);colour;location;model photography;price;price 2;page  165474 non-null  object\n",
            "dtypes: object(1)\n",
            "memory usage: 1.3+ MB\n"
          ],
          "name": "stdout"
        }
      ]
    },
    {
      "cell_type": "code",
      "metadata": {
        "id": "K29DnsbTl-2T"
      },
      "source": [
        "#Data from this resource is not prepared. all the data are in one column and the name of this column is the name of all the variables.\n",
        "#I split the data and put them in correct columns with correct headers.\n",
        "#First, I look at one observation to find out how to split the data"
      ],
      "execution_count": null,
      "outputs": []
    },
    {
      "cell_type": "code",
      "metadata": {
        "colab": {
          "base_uri": "https://localhost:8080/"
        },
        "id": "up1X7lofmBC7",
        "outputId": "8998946d-ebdc-41c2-a457-6b2560f676f2"
      },
      "source": [
        "a=data['year;month;day;order;country;session ID;page 1 (main category);page 2 (clothing model);colour;location;model photography;price;price 2;page'][1]\n",
        "print(a)"
      ],
      "execution_count": null,
      "outputs": [
        {
          "output_type": "stream",
          "text": [
            "2008;4;1;2;29;1;1;A16;1;6;1;33;2;1\n"
          ],
          "name": "stdout"
        }
      ]
    },
    {
      "cell_type": "code",
      "metadata": {
        "id": "2TLWSaBQnVDx"
      },
      "source": [
        "year=[]\n",
        "month=[]\n",
        "day=[]\n",
        "order=[]\n",
        "country=[]\n",
        "session=[]\n",
        "page1=[]\n",
        "page2=[]\n",
        "color=[]\n",
        "location=[]\n",
        "model=[]\n",
        "price=[]\n",
        "price2=[]\n",
        "page=[]\n",
        "\n",
        "for i in range(0,165473):\n",
        "  j=str(data['year;month;day;order;country;session ID;page 1 (main category);page 2 (clothing model);colour;location;model photography;price;price 2;page'][i])\n",
        "  year.append(j.split(';')[0])\n",
        "  month.append(j.split(';')[1])\n",
        "  day.append(j.split(';')[2])\n",
        "  order.append(j.split(';')[3])\n",
        "  country.append(j.split(';')[4])\n",
        "  session.append(j.split(';')[5])\n",
        "  page1.append(j.split(';')[6])\n",
        "  page2.append(j.split(';')[7])\n",
        "  color.append(j.split(';')[8])\n",
        "  location.append(j.split(';')[9])\n",
        "  model.append(j.split(';')[10])\n",
        "  price.append(j.split(';')[11])\n",
        "  price2.append(j.split(';')[12])\n",
        "  page.append(j.split(';')[13])\n"
      ],
      "execution_count": 6,
      "outputs": []
    },
    {
      "cell_type": "code",
      "metadata": {
        "colab": {
          "base_uri": "https://localhost:8080/",
          "height": 221
        },
        "id": "jjsnqepsrvc6",
        "outputId": "c8bc275b-a9f3-4b93-dc23-e41eb1aec7b5"
      },
      "source": [
        "data_organized={'Year':year,'Month':month,'Day':day,'Order':order,'Country':country,'Session ID':session,'Page 1 (main category)':page1,'Page 2 (clothing model)':page2,'Color':color,\n",
        "                'Location':location,'Model photography':model,'Price':price,'Price 2':price2,'Page':page\n",
        "                }\n",
        "df=pd.DataFrame(data_organized)\n",
        "df.head()"
      ],
      "execution_count": 7,
      "outputs": [
        {
          "output_type": "execute_result",
          "data": {
            "text/html": [
              "<div>\n",
              "<style scoped>\n",
              "    .dataframe tbody tr th:only-of-type {\n",
              "        vertical-align: middle;\n",
              "    }\n",
              "\n",
              "    .dataframe tbody tr th {\n",
              "        vertical-align: top;\n",
              "    }\n",
              "\n",
              "    .dataframe thead th {\n",
              "        text-align: right;\n",
              "    }\n",
              "</style>\n",
              "<table border=\"1\" class=\"dataframe\">\n",
              "  <thead>\n",
              "    <tr style=\"text-align: right;\">\n",
              "      <th></th>\n",
              "      <th>Year</th>\n",
              "      <th>Month</th>\n",
              "      <th>Day</th>\n",
              "      <th>Order</th>\n",
              "      <th>Country</th>\n",
              "      <th>Session ID</th>\n",
              "      <th>Page 1 (main category)</th>\n",
              "      <th>Page 2 (clothing model)</th>\n",
              "      <th>Color</th>\n",
              "      <th>Location</th>\n",
              "      <th>Model photography</th>\n",
              "      <th>Price</th>\n",
              "      <th>Price 2</th>\n",
              "      <th>Page</th>\n",
              "    </tr>\n",
              "  </thead>\n",
              "  <tbody>\n",
              "    <tr>\n",
              "      <th>0</th>\n",
              "      <td>2008</td>\n",
              "      <td>4</td>\n",
              "      <td>1</td>\n",
              "      <td>1</td>\n",
              "      <td>29</td>\n",
              "      <td>1</td>\n",
              "      <td>1</td>\n",
              "      <td>A13</td>\n",
              "      <td>1</td>\n",
              "      <td>5</td>\n",
              "      <td>1</td>\n",
              "      <td>28</td>\n",
              "      <td>2</td>\n",
              "      <td>1</td>\n",
              "    </tr>\n",
              "    <tr>\n",
              "      <th>1</th>\n",
              "      <td>2008</td>\n",
              "      <td>4</td>\n",
              "      <td>1</td>\n",
              "      <td>2</td>\n",
              "      <td>29</td>\n",
              "      <td>1</td>\n",
              "      <td>1</td>\n",
              "      <td>A16</td>\n",
              "      <td>1</td>\n",
              "      <td>6</td>\n",
              "      <td>1</td>\n",
              "      <td>33</td>\n",
              "      <td>2</td>\n",
              "      <td>1</td>\n",
              "    </tr>\n",
              "    <tr>\n",
              "      <th>2</th>\n",
              "      <td>2008</td>\n",
              "      <td>4</td>\n",
              "      <td>1</td>\n",
              "      <td>3</td>\n",
              "      <td>29</td>\n",
              "      <td>1</td>\n",
              "      <td>2</td>\n",
              "      <td>B4</td>\n",
              "      <td>10</td>\n",
              "      <td>2</td>\n",
              "      <td>1</td>\n",
              "      <td>52</td>\n",
              "      <td>1</td>\n",
              "      <td>1</td>\n",
              "    </tr>\n",
              "    <tr>\n",
              "      <th>3</th>\n",
              "      <td>2008</td>\n",
              "      <td>4</td>\n",
              "      <td>1</td>\n",
              "      <td>4</td>\n",
              "      <td>29</td>\n",
              "      <td>1</td>\n",
              "      <td>2</td>\n",
              "      <td>B17</td>\n",
              "      <td>6</td>\n",
              "      <td>6</td>\n",
              "      <td>2</td>\n",
              "      <td>38</td>\n",
              "      <td>2</td>\n",
              "      <td>1</td>\n",
              "    </tr>\n",
              "    <tr>\n",
              "      <th>4</th>\n",
              "      <td>2008</td>\n",
              "      <td>4</td>\n",
              "      <td>1</td>\n",
              "      <td>5</td>\n",
              "      <td>29</td>\n",
              "      <td>1</td>\n",
              "      <td>2</td>\n",
              "      <td>B8</td>\n",
              "      <td>4</td>\n",
              "      <td>3</td>\n",
              "      <td>2</td>\n",
              "      <td>52</td>\n",
              "      <td>1</td>\n",
              "      <td>1</td>\n",
              "    </tr>\n",
              "  </tbody>\n",
              "</table>\n",
              "</div>"
            ],
            "text/plain": [
              "   Year Month Day Order Country  ... Location Model photography Price Price 2 Page\n",
              "0  2008     4   1     1      29  ...        5                 1    28       2    1\n",
              "1  2008     4   1     2      29  ...        6                 1    33       2    1\n",
              "2  2008     4   1     3      29  ...        2                 1    52       1    1\n",
              "3  2008     4   1     4      29  ...        6                 2    38       2    1\n",
              "4  2008     4   1     5      29  ...        3                 2    52       1    1\n",
              "\n",
              "[5 rows x 14 columns]"
            ]
          },
          "metadata": {
            "tags": []
          },
          "execution_count": 7
        }
      ]
    },
    {
      "cell_type": "code",
      "metadata": {
        "id": "XApslCIwvO8E"
      },
      "source": [
        "#Now data are organized. I save them as a new csv model to work on them in later parts"
      ],
      "execution_count": null,
      "outputs": []
    },
    {
      "cell_type": "code",
      "metadata": {
        "id": "920xG1R2s40_"
      },
      "source": [
        "df.to_csv('E_shop_cleaned_data.csv')"
      ],
      "execution_count": 8,
      "outputs": []
    }
  ]
}